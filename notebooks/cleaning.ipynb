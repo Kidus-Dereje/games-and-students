{
 "cells": [
  {
   "cell_type": "code",
   "execution_count": null,
   "id": "07814c8e-ff87-4958-a740-64e028752245",
   "metadata": {},
   "outputs": [],
   "source": [
    "import numpy as np\n",
    "import pandas as pd\n",
    "import matplotlib.pyplot as plt"
   ]
  },
  {
   "cell_type": "code",
   "execution_count": null,
   "id": "85374ce8-8fd0-4dad-aa82-2d4f89078621",
   "metadata": {},
   "outputs": [],
   "source": [
    "raw_df = pd.read_csv(\"../data/games_and_students.csv\")"
   ]
  },
  {
   "cell_type": "code",
   "execution_count": null,
   "id": "5d919e59-61fc-40eb-8d01-89a19b2583b6",
   "metadata": {},
   "outputs": [],
   "source": [
    "df = raw_df.copy()"
   ]
  },
  {
   "cell_type": "code",
   "execution_count": null,
   "id": "e878ba7a-4c36-4a39-8290-2a6041524e8d",
   "metadata": {},
   "outputs": [],
   "source": [
    "df.head()"
   ]
  },
  {
   "cell_type": "code",
   "execution_count": null,
   "id": "b0cee5a6-ccbe-48f7-911e-acf0bd4ccc72",
   "metadata": {},
   "outputs": [],
   "source": [
    "df.describe()"
   ]
  },
  {
   "cell_type": "code",
   "execution_count": null,
   "id": "2714ae50-7357-4254-9786-cb52df4b119d",
   "metadata": {},
   "outputs": [],
   "source": [
    "df.info()"
   ]
  },
  {
   "cell_type": "code",
   "execution_count": null,
   "id": "09e1b1e0-54e6-49f5-95b2-2b083bddc7e7",
   "metadata": {},
   "outputs": [],
   "source": [
    "#Rename Columns\n",
    "df.columns = df.columns.str.lower().str.replace(' ', '_')"
   ]
  },
  {
   "cell_type": "code",
   "execution_count": null,
   "id": "2dcd9eaf-6019-46de-a449-f104148c855f",
   "metadata": {},
   "outputs": [],
   "source": [
    "#Cleaning Data Points\n",
    "df['grade'] = (\n",
    "    df['grade']\n",
    "    .str.replace(r'\\.{2,}', '.', regex=True)\n",
    "    .pipe(pd.to_numeric, errors='coerce')\n",
    ")\n",
    "\n",
    "df['percentage'] = (\n",
    "    df['percentage']\n",
    "    .str.replace('%','', regex=False)\n",
    "    .str.replace(',,', '00,', regex=False)\n",
    "    .str.replace(',', '.', regex=False)\n",
    "    .str.replace(r'\\.{2,}', '.', regex=True).astype(float)/100)"
   ]
  },
  {
   "cell_type": "code",
   "execution_count": null,
   "id": "d81b380e-1df8-4d43-8fe8-9a2cddcd172a",
   "metadata": {},
   "outputs": [],
   "source": [
    "#Checking if grade column and percentage column are the same\n",
    "np.allclose(df['grade'], df['percentage'], atol=1e-6)"
   ]
  },
  {
   "cell_type": "code",
   "execution_count": null,
   "id": "420f6cca-ba25-480c-a864-f8585a187397",
   "metadata": {},
   "outputs": [],
   "source": [
    "#Droping percentage column as it is a duplicate column\n",
    "df = df.drop('percentage', axis=1)"
   ]
  },
  {
   "cell_type": "code",
   "execution_count": null,
   "id": "cb07f855-acbb-46fe-969e-cc28f1fe5e9a",
   "metadata": {},
   "outputs": [],
   "source": [
    "df.head()"
   ]
  },
  {
   "cell_type": "code",
   "execution_count": null,
   "id": "58390a03-8c30-4a00-a526-4ebe81310bfc",
   "metadata": {},
   "outputs": [],
   "source": [
    "df.to_csv(\"../data/games_and_students_cleaned.csv\", index=False)"
   ]
  }
 ],
 "metadata": {
  "kernelspec": {
   "display_name": "Python 3 (ipykernel)",
   "language": "python",
   "name": "python3"
  },
  "language_info": {
   "codemirror_mode": {
    "name": "ipython",
    "version": 3
   },
   "file_extension": ".py",
   "mimetype": "text/x-python",
   "name": "python",
   "nbconvert_exporter": "python",
   "pygments_lexer": "ipython3",
   "version": "3.12.5"
  }
 },
 "nbformat": 4,
 "nbformat_minor": 5
}
